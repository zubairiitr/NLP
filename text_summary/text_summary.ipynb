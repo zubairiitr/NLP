{
  "nbformat": 4,
  "nbformat_minor": 0,
  "metadata": {
    "colab": {
      "provenance": []
    },
    "kernelspec": {
      "name": "python3",
      "display_name": "Python 3"
    },
    "language_info": {
      "name": "python"
    }
  },
  "cells": [
    {
      "cell_type": "markdown",
      "source": [
        "Tex Summarization: In this exersie we will see very basic idea of automated \n",
        "text summarization process."
      ],
      "metadata": {
        "id": "5JHJN7E2A5Ud"
      }
    },
    {
      "cell_type": "code",
      "source": [
        "text = \"\"\"Maria Yuryevna Sharapova (Russian: Мария Юрьевна Шарапова, \n",
        "pronounced [mɐˈrʲijə ʂɐˈrapəvə] (listen); born 19 April 1987) is a Russian \n",
        "former world No. 1 tennis player. She competed on the WTA Tour from 2001 to \n",
        "2020 and was ranked world No. 1 in singles by the Women's Tennis Association \n",
        "(WTA) for 21 weeks. She is one of ten women, and the only Russian, to achieve \n",
        "the career Grand Slam. She is also an Olympic medalist, having won silver in \n",
        "women's singles at the 2012 London Olympics.\n",
        "Sharapova became the world No. 1 for the first \n",
        "time on 22 August 2005 at the age of 18, becoming t\n",
        "he first Russian woman to top the singles rankings, and \n",
        "last held the position for a fifth time for four weeks \n",
        "from 11 June 2012 to 8 July 2012.[4][5] She won five major titles — two at the\n",
        " French Open and one each at the Australian Open, Wimbledon, and the US Open. She won \n",
        " 36 titles in total, including the year-end championships in her debut in 2004. She also won \n",
        " three doubles titles. Although she played under the banner of Russia with the WTA, she has lived in and been a \n",
        " United States permanent resident since 1994.[6]\"\"\""
      ],
      "metadata": {
        "id": "-wdZyhjIAy1Y"
      },
      "execution_count": 16,
      "outputs": []
    },
    {
      "cell_type": "markdown",
      "source": [
        "1) Importing the libraries and Data set"
      ],
      "metadata": {
        "id": "G2JZQh7oBVGv"
      }
    },
    {
      "cell_type": "code",
      "source": [
        "import spacy\n",
        "from spacy.lang.en.stop_words import STOP_WORDS\n",
        "from string import punctuation"
      ],
      "metadata": {
        "id": "h9XOszzLBDVL"
      },
      "execution_count": 17,
      "outputs": []
    },
    {
      "cell_type": "code",
      "source": [
        "nlp = spacy.load(\"en_core_web_sm\")"
      ],
      "metadata": {
        "id": "XYVLbv5iBpii"
      },
      "execution_count": 18,
      "outputs": []
    },
    {
      "cell_type": "code",
      "source": [
        "doc = nlp(text)"
      ],
      "metadata": {
        "id": "Vm5Uw7TGB1_h"
      },
      "execution_count": 19,
      "outputs": []
    },
    {
      "cell_type": "code",
      "source": [
        "token = [token.text for token in doc]\n",
        "print(token)"
      ],
      "metadata": {
        "colab": {
          "base_uri": "https://localhost:8080/"
        },
        "id": "hZJpTtJ4B8EZ",
        "outputId": "3848cfba-d2ee-43c1-a88b-45de81a7b11d"
      },
      "execution_count": 20,
      "outputs": [
        {
          "output_type": "stream",
          "name": "stdout",
          "text": [
            "['Maria', 'Yuryevna', 'Sharapova', '(', 'Russian', ':', 'Мария', 'Юрьевна', 'Шарапова', ',', '\\n', 'pronounced', '[', 'mɐˈrʲijə', 'ʂɐˈrapəvə', ']', '(', 'listen', ')', ';', 'born', '19', 'April', '1987', ')', 'is', 'a', 'Russian', '\\n', 'former', 'world', 'No', '.', '1', 'tennis', 'player', '.', 'She', 'competed', 'on', 'the', 'WTA', 'Tour', 'from', '2001', 'to', '\\n', '2020', 'and', 'was', 'ranked', 'world', 'No', '.', '1', 'in', 'singles', 'by', 'the', 'Women', \"'s\", 'Tennis', 'Association', '\\n', '(', 'WTA', ')', 'for', '21', 'weeks', '.', 'She', 'is', 'one', 'of', 'ten', 'women', ',', 'and', 'the', 'only', 'Russian', ',', 'to', 'achieve', '\\n', 'the', 'career', 'Grand', 'Slam', '.', 'She', 'is', 'also', 'an', 'Olympic', 'medalist', ',', 'having', 'won', 'silver', 'in', '\\n', 'women', \"'s\", 'singles', 'at', 'the', '2012', 'London', 'Olympics', '.', '\\n', 'Sharapova', 'became', 'the', 'world', 'No', '.', '1', 'for', 'the', 'first', '\\n', 'time', 'on', '22', 'August', '2005', 'at', 'the', 'age', 'of', '18', ',', 'becoming', 't', '\\n', 'he', 'first', 'Russian', 'woman', 'to', 'top', 'the', 'singles', 'rankings', ',', 'and', '\\n', 'last', 'held', 'the', 'position', 'for', 'a', 'fifth', 'time', 'for', 'four', 'weeks', '\\n', 'from', '11', 'June', '2012', 'to', '8', 'July', '2012.[4][5', ']', 'She', 'won', 'five', 'major', 'titles', '—', 'two', 'at', 'the', '\\n ', 'French', 'Open', 'and', 'one', 'each', 'at', 'the', 'Australian', 'Open', ',', 'Wimbledon', ',', 'and', 'the', 'US', 'Open', '.', 'She', 'won', '\\n ', '36', 'titles', 'in', 'total', ',', 'including', 'the', 'year', '-', 'end', 'championships', 'in', 'her', 'debut', 'in', '2004', '.', 'She', 'also', 'won', '\\n ', 'three', 'doubles', 'titles', '.', 'Although', 'she', 'played', 'under', 'the', 'banner', 'of', 'Russia', 'with', 'the', 'WTA', ',', 'she', 'has', 'lived', 'in', 'and', 'been', 'a', '\\n ', 'United', 'States', 'permanent', 'resident', 'since', '1994.[6', ']']\n"
          ]
        }
      ]
    },
    {
      "cell_type": "code",
      "source": [
        "punctuation"
      ],
      "metadata": {
        "colab": {
          "base_uri": "https://localhost:8080/",
          "height": 35
        },
        "id": "ZTO6Ll5NCbuc",
        "outputId": "660ad2ac-4664-42fa-8788-4ac7e0da1f64"
      },
      "execution_count": 21,
      "outputs": [
        {
          "output_type": "execute_result",
          "data": {
            "text/plain": [
              "'!\"#$%&\\'()*+,-./:;<=>?@[\\\\]^_`{|}~'"
            ],
            "application/vnd.google.colaboratory.intrinsic+json": {
              "type": "string"
            }
          },
          "metadata": {},
          "execution_count": 21
        }
      ]
    },
    {
      "cell_type": "code",
      "source": [
        "punctuation = punctuation + '\\n'\n",
        "punctuation"
      ],
      "metadata": {
        "colab": {
          "base_uri": "https://localhost:8080/",
          "height": 35
        },
        "id": "eDQOck96Ct2U",
        "outputId": "42a8c3fa-d0d6-4f8c-bfe5-bb4e76b6c22c"
      },
      "execution_count": 22,
      "outputs": [
        {
          "output_type": "execute_result",
          "data": {
            "text/plain": [
              "'!\"#$%&\\'()*+,-./:;<=>?@[\\\\]^_`{|}~\\n'"
            ],
            "application/vnd.google.colaboratory.intrinsic+json": {
              "type": "string"
            }
          },
          "metadata": {},
          "execution_count": 22
        }
      ]
    },
    {
      "cell_type": "markdown",
      "source": [
        "2) Text Cleaning "
      ],
      "metadata": {
        "id": "CKddFfXKDfgu"
      }
    },
    {
      "cell_type": "code",
      "source": [
        "word_freq = {}"
      ],
      "metadata": {
        "id": "xdaGtkMDDcsQ"
      },
      "execution_count": 24,
      "outputs": []
    },
    {
      "cell_type": "code",
      "source": [
        "for word in doc:\n",
        "    stop_words = list(STOP_WORDS)\n",
        "    if word.text.lower() not in stop_words:\n",
        "      if word.text.lower() not in punctuation:\n",
        "        if word.text not in word_freq.keys():\n",
        "          word_freq[word.text] = 1\n",
        "        else:\n",
        "          word_freq[word.text] += 1\n",
        "print(word_freq)         \n",
        "  \n",
        "  \n"
      ],
      "metadata": {
        "colab": {
          "base_uri": "https://localhost:8080/"
        },
        "id": "71FQJS9fDcvH",
        "outputId": "2000ff8d-b068-4e43-ede9-cc02d1bf3ed7"
      },
      "execution_count": 41,
      "outputs": [
        {
          "output_type": "stream",
          "name": "stdout",
          "text": [
            "{'Maria': 3, 'Yuryevna': 3, 'Sharapova': 5, 'Russian': 9, 'Мария': 3, 'Юрьевна': 3, 'Шарапова': 3, 'pronounced': 3, 'mɐˈrʲijə': 3, 'ʂɐˈrapəvə': 3, 'listen': 3, 'born': 3, '19': 3, 'April': 3, '1987': 3, 'world': 6, '1': 6, 'tennis': 2, 'player': 2, 'competed': 2, 'WTA': 6, 'Tour': 2, '2001': 2, '2020': 2, 'ranked': 2, 'singles': 6, 'Women': 2, 'Tennis': 2, 'Association': 2, '21': 2, 'weeks': 4, 'women': 4, 'achieve': 2, 'career': 2, 'Grand': 2, 'Slam': 2, 'Olympic': 2, 'medalist': 2, 'having': 2, 'won': 8, 'silver': 2, '2012': 4, 'London': 2, 'Olympics': 2, 'time': 4, '22': 2, 'August': 2, '2005': 2, 'age': 2, '18': 2, 't': 2, 'woman': 2, 'rankings': 2, 'held': 2, 'position': 2, 'fifth': 2, '11': 2, 'June': 2, '8': 2, 'July': 2, '2012.[4][5': 2, 'major': 2, 'titles': 6, '—': 2, '\\n ': 8, 'French': 2, 'Open': 6, 'Australian': 2, 'Wimbledon': 2, '36': 2, 'total': 2, 'including': 2, 'year': 2, 'end': 2, 'championships': 2, 'debut': 2, '2004': 2, 'doubles': 2, 'played': 2, 'banner': 2, 'Russia': 2, 'lived': 2, 'United': 2, 'States': 2, 'permanent': 2, 'resident': 2, '1994.[6': 2}\n"
          ]
        }
      ]
    },
    {
      "cell_type": "code",
      "source": [
        "max_freq = max(word_freq.values())"
      ],
      "metadata": {
        "id": "e051SGT4Dcxr"
      },
      "execution_count": 45,
      "outputs": []
    },
    {
      "cell_type": "code",
      "source": [
        "for word in word_freq.keys():\n",
        "  word_freq[word] = word_freq[word]/max_freq\n",
        "print(word_freq)\n"
      ],
      "metadata": {
        "colab": {
          "base_uri": "https://localhost:8080/"
        },
        "id": "fQDoQsmRDc1E",
        "outputId": "68848067-58b2-41d2-8f75-8e324cc23dc7"
      },
      "execution_count": 48,
      "outputs": [
        {
          "output_type": "stream",
          "name": "stdout",
          "text": [
            "{'Maria': 0.037037037037037035, 'Yuryevna': 0.037037037037037035, 'Sharapova': 0.0617283950617284, 'Russian': 0.1111111111111111, 'Мария': 0.037037037037037035, 'Юрьевна': 0.037037037037037035, 'Шарапова': 0.037037037037037035, 'pronounced': 0.037037037037037035, 'mɐˈrʲijə': 0.037037037037037035, 'ʂɐˈrapəvə': 0.037037037037037035, 'listen': 0.037037037037037035, 'born': 0.037037037037037035, '19': 0.037037037037037035, 'April': 0.037037037037037035, '1987': 0.037037037037037035, 'world': 0.07407407407407407, '1': 0.07407407407407407, 'tennis': 0.024691358024691357, 'player': 0.024691358024691357, 'competed': 0.024691358024691357, 'WTA': 0.07407407407407407, 'Tour': 0.024691358024691357, '2001': 0.024691358024691357, '2020': 0.024691358024691357, 'ranked': 0.024691358024691357, 'singles': 0.07407407407407407, 'Women': 0.024691358024691357, 'Tennis': 0.024691358024691357, 'Association': 0.024691358024691357, '21': 0.024691358024691357, 'weeks': 0.04938271604938271, 'women': 0.04938271604938271, 'achieve': 0.024691358024691357, 'career': 0.024691358024691357, 'Grand': 0.024691358024691357, 'Slam': 0.024691358024691357, 'Olympic': 0.024691358024691357, 'medalist': 0.024691358024691357, 'having': 0.024691358024691357, 'won': 0.09876543209876543, 'silver': 0.024691358024691357, '2012': 0.04938271604938271, 'London': 0.024691358024691357, 'Olympics': 0.024691358024691357, 'time': 0.04938271604938271, '22': 0.024691358024691357, 'August': 0.024691358024691357, '2005': 0.024691358024691357, 'age': 0.024691358024691357, '18': 0.024691358024691357, 't': 0.024691358024691357, 'woman': 0.024691358024691357, 'rankings': 0.024691358024691357, 'held': 0.024691358024691357, 'position': 0.024691358024691357, 'fifth': 0.024691358024691357, '11': 0.024691358024691357, 'June': 0.024691358024691357, '8': 0.024691358024691357, 'July': 0.024691358024691357, '2012.[4][5': 0.024691358024691357, 'major': 0.024691358024691357, 'titles': 0.07407407407407407, '—': 0.024691358024691357, '\\n ': 0.09876543209876543, 'French': 0.024691358024691357, 'Open': 0.07407407407407407, 'Australian': 0.024691358024691357, 'Wimbledon': 0.024691358024691357, '36': 0.024691358024691357, 'total': 0.024691358024691357, 'including': 0.024691358024691357, 'year': 0.024691358024691357, 'end': 0.024691358024691357, 'championships': 0.024691358024691357, 'debut': 0.024691358024691357, '2004': 0.024691358024691357, 'doubles': 0.024691358024691357, 'played': 0.024691358024691357, 'banner': 0.024691358024691357, 'Russia': 0.024691358024691357, 'lived': 0.024691358024691357, 'United': 0.024691358024691357, 'States': 0.024691358024691357, 'permanent': 0.024691358024691357, 'resident': 0.024691358024691357, '1994.[6': 0.024691358024691357}\n"
          ]
        }
      ]
    },
    {
      "cell_type": "markdown",
      "source": [
        "3) Sentance tokenization"
      ],
      "metadata": {
        "id": "BA3OhdppInYC"
      }
    },
    {
      "cell_type": "code",
      "source": [
        "sent_tokens =[sent for sent in doc.sents]\n",
        "print(sent_tokens)"
      ],
      "metadata": {
        "colab": {
          "base_uri": "https://localhost:8080/"
        },
        "id": "xqLRt915Dc3a",
        "outputId": "1edc8323-a085-40bb-f213-c7afe94a9546"
      },
      "execution_count": 50,
      "outputs": [
        {
          "output_type": "stream",
          "name": "stdout",
          "text": [
            "[Maria Yuryevna Sharapova (Russian: Мария Юрьевна Шарапова, \n",
            "pronounced [mɐˈrʲijə ʂɐˈrapəvə] (listen); born 19 April 1987) is a Russian \n",
            "former world No. 1 tennis player., She competed on the WTA Tour from 2001 to \n",
            "2020 and was ranked world No. 1 in singles by the Women's Tennis Association \n",
            "(WTA) for 21 weeks., She is one of ten women, and the only Russian, to achieve \n",
            "the career Grand Slam., She is also an Olympic medalist, having won silver in \n",
            "women's singles at the 2012 London Olympics.\n",
            ", Sharapova became the world No. 1 for the first \n",
            "time on 22 August 2005 at the age of 18, becoming t\n",
            "he first Russian woman to top the singles rankings, and \n",
            "last held the position for a fifth time for four weeks \n",
            "from 11 June 2012 to 8 July 2012.[4][5], She won five major titles — two at the\n",
            " French Open and one each at the Australian Open, Wimbledon, and the US Open., She won \n",
            " 36 titles in total, including the year-end championships in her debut in 2004., She also won \n",
            " three doubles titles., Although she played under the banner of Russia with the WTA, she has lived in and been a \n",
            " United States permanent resident since 1994.[6]]\n"
          ]
        }
      ]
    },
    {
      "cell_type": "code",
      "source": [
        "sent_score  = {}"
      ],
      "metadata": {
        "id": "Xmam0Fh7DdxT"
      },
      "execution_count": 51,
      "outputs": []
    },
    {
      "cell_type": "code",
      "source": [
        "for sent in sent_tokens:\n",
        "  for word in sent:\n",
        "    if word.text.lower() in word_freq.keys():\n",
        "      if sent not in sent_score.keys():\n",
        "        sent_score[sent] = word_freq[word.text.lower()]\n",
        "      else:\n",
        "        sent_score[sent] += word_freq[word.text.lower()]\n",
        "    \n",
        "print(sent_score)"
      ],
      "metadata": {
        "colab": {
          "base_uri": "https://localhost:8080/"
        },
        "id": "UOgM_33oDdz2",
        "outputId": "f5c88918-16d7-4302-8dd5-e4fb092682b0"
      },
      "execution_count": 56,
      "outputs": [
        {
          "output_type": "stream",
          "name": "stdout",
          "text": [
            "{Maria Yuryevna Sharapova (Russian: Мария Юрьевна Шарапова, \n",
            "pronounced [mɐˈrʲijə ʂɐˈrapəvə] (listen); born 19 April 1987) is a Russian \n",
            "former world No. 1 tennis player.: 0.9135802469135799, She competed on the WTA Tour from 2001 to \n",
            "2020 and was ranked world No. 1 in singles by the Women's Tennis Association \n",
            "(WTA) for 21 weeks.: 0.9382716049382716, She is one of ten women, and the only Russian, to achieve \n",
            "the career Grand Slam.: 0.19753086419753085, She is also an Olympic medalist, having won silver in \n",
            "women's singles at the 2012 London Olympics.\n",
            ": 0.691358024691358, Sharapova became the world No. 1 for the first \n",
            "time on 22 August 2005 at the age of 18, becoming t\n",
            "he first Russian woman to top the singles rankings, and \n",
            "last held the position for a fifth time for four weeks \n",
            "from 11 June 2012 to 8 July 2012.[4][5]: 1.4814814814814823, She won five major titles — two at the\n",
            " French Open and one each at the Australian Open, Wimbledon, and the US Open.: 0.6419753086419753, She won \n",
            " 36 titles in total, including the year-end championships in her debut in 2004.: 0.9382716049382716, She also won \n",
            " three doubles titles.: 0.5925925925925926, Although she played under the banner of Russia with the WTA, she has lived in and been a \n",
            " United States permanent resident since 1994.[6]: 0.49382716049382713}\n"
          ]
        }
      ]
    },
    {
      "cell_type": "markdown",
      "source": [
        "4) Select 30% sentance with maximum score "
      ],
      "metadata": {
        "id": "bBkHUC8_LFhZ"
      }
    },
    {
      "cell_type": "code",
      "source": [
        "from heapq import nlargest"
      ],
      "metadata": {
        "id": "W4-1MNMfDd2f"
      },
      "execution_count": 59,
      "outputs": []
    },
    {
      "cell_type": "code",
      "source": [
        "len(sent_score)*0.3"
      ],
      "metadata": {
        "colab": {
          "base_uri": "https://localhost:8080/"
        },
        "id": "yX3CDZQqDd6o",
        "outputId": "4ff05b75-b483-4098-bbd9-03916e900a50"
      },
      "execution_count": 61,
      "outputs": [
        {
          "output_type": "execute_result",
          "data": {
            "text/plain": [
              "2.6999999999999997"
            ]
          },
          "metadata": {},
          "execution_count": 61
        }
      ]
    },
    {
      "cell_type": "markdown",
      "source": [
        "5) Getting the summary"
      ],
      "metadata": {
        "id": "cCCy6TriL2JV"
      }
    },
    {
      "cell_type": "code",
      "source": [
        "summary = nlargest(n= 3, iterable = sent_score, key = sent_score.get)\n",
        "\n",
        "print(summary)"
      ],
      "metadata": {
        "colab": {
          "base_uri": "https://localhost:8080/"
        },
        "id": "u2bPCb8EDd9e",
        "outputId": "2714ffe9-d26d-4ea7-f5a1-09a281095f7d"
      },
      "execution_count": 63,
      "outputs": [
        {
          "output_type": "stream",
          "name": "stdout",
          "text": [
            "[Sharapova became the world No. 1 for the first \n",
            "time on 22 August 2005 at the age of 18, becoming t\n",
            "he first Russian woman to top the singles rankings, and \n",
            "last held the position for a fifth time for four weeks \n",
            "from 11 June 2012 to 8 July 2012.[4][5], She competed on the WTA Tour from 2001 to \n",
            "2020 and was ranked world No. 1 in singles by the Women's Tennis Association \n",
            "(WTA) for 21 weeks., She won \n",
            " 36 titles in total, including the year-end championships in her debut in 2004.]\n"
          ]
        }
      ]
    },
    {
      "cell_type": "code",
      "source": [
        "final_summary = [word.text for word in  summary]"
      ],
      "metadata": {
        "id": "LEgTeZDCDeAE"
      },
      "execution_count": 66,
      "outputs": []
    },
    {
      "cell_type": "code",
      "source": [
        "print(final_summary)"
      ],
      "metadata": {
        "colab": {
          "base_uri": "https://localhost:8080/"
        },
        "id": "txK9oPr6NDoS",
        "outputId": "83fb8ce8-b671-4d64-9499-707bbc154df4"
      },
      "execution_count": 69,
      "outputs": [
        {
          "output_type": "stream",
          "name": "stdout",
          "text": [
            "['Sharapova became the world No. 1 for the first \\ntime on 22 August 2005 at the age of 18, becoming t\\nhe first Russian woman to top the singles rankings, and \\nlast held the position for a fifth time for four weeks \\nfrom 11 June 2012 to 8 July 2012.[4][5]', \"She competed on the WTA Tour from 2001 to \\n2020 and was ranked world No. 1 in singles by the Women's Tennis Association \\n(WTA) for 21 weeks.\", 'She won \\n 36 titles in total, including the year-end championships in her debut in 2004.']\n"
          ]
        }
      ]
    },
    {
      "cell_type": "code",
      "source": [
        "summary = \" \". join(final_summary)"
      ],
      "metadata": {
        "id": "5YeQKIS4NLxg"
      },
      "execution_count": 72,
      "outputs": []
    },
    {
      "cell_type": "code",
      "source": [
        "print(summary)"
      ],
      "metadata": {
        "colab": {
          "base_uri": "https://localhost:8080/"
        },
        "id": "kzifQtQXNZNS",
        "outputId": "f179115e-08c3-471f-99c2-17ac106b8360"
      },
      "execution_count": 80,
      "outputs": [
        {
          "output_type": "stream",
          "name": "stdout",
          "text": [
            "Sharapova became the world No. 1 for the first \n",
            "time on 22 August 2005 at the age of 18, becoming t\n",
            "he first Russian woman to top the singles rankings, and \n",
            "last held the position for a fifth time for four weeks \n",
            "from 11 June 2012 to 8 July 2012.[4][5] She competed on the WTA Tour from 2001 to \n",
            "2020 and was ranked world No. 1 in singles by the Women's Tennis Association \n",
            "(WTA) for 21 weeks. She won \n",
            " 36 titles in total, including the year-end championships in her debut in 2004.\n"
          ]
        }
      ]
    },
    {
      "cell_type": "code",
      "source": [
        "len(summary)/len(text)\n",
        "# so almost 40 % data is gather and almost 60% data is reject"
      ],
      "metadata": {
        "colab": {
          "base_uri": "https://localhost:8080/"
        },
        "id": "wHflGOmpNcSf",
        "outputId": "ad72970f-8c77-4959-ac4d-f1af2ee4df2e"
      },
      "execution_count": 79,
      "outputs": [
        {
          "output_type": "execute_result",
          "data": {
            "text/plain": [
              "0.4276841171251109"
            ]
          },
          "metadata": {},
          "execution_count": 79
        }
      ]
    },
    {
      "cell_type": "code",
      "source": [],
      "metadata": {
        "id": "mf-hj3XtNgUy"
      },
      "execution_count": null,
      "outputs": []
    }
  ]
}